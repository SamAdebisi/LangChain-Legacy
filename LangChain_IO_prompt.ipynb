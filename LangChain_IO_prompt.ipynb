{
 "cells": [
  {
   "cell_type": "markdown",
   "metadata": {},
   "source": [
    "### Prompting for LLM Input / Output with LangChain "
   ]
  },
  {
   "cell_type": "code",
   "execution_count": 2,
   "metadata": {},
   "outputs": [
    {
     "name": "stdout",
     "output_type": "stream",
     "text": [
      "Requirement already satisfied: langchain==0.3.11 in /Users/azeez/miniforge3/lib/python3.10/site-packages (0.3.11)\n",
      "Requirement already satisfied: PyYAML>=5.3 in /Users/azeez/miniforge3/lib/python3.10/site-packages (from langchain==0.3.11) (6.0.2)\n",
      "Requirement already satisfied: SQLAlchemy<3,>=1.4 in /Users/azeez/miniforge3/lib/python3.10/site-packages (from langchain==0.3.11) (2.0.40)\n",
      "Requirement already satisfied: aiohttp<4.0.0,>=3.8.3 in /Users/azeez/miniforge3/lib/python3.10/site-packages (from langchain==0.3.11) (3.11.18)\n",
      "Requirement already satisfied: async-timeout<5.0.0,>=4.0.0 in /Users/azeez/miniforge3/lib/python3.10/site-packages (from langchain==0.3.11) (4.0.3)\n",
      "Requirement already satisfied: langchain-core<0.4.0,>=0.3.24 in /Users/azeez/miniforge3/lib/python3.10/site-packages (from langchain==0.3.11) (0.3.63)\n",
      "Requirement already satisfied: langchain-text-splitters<0.4.0,>=0.3.0 in /Users/azeez/miniforge3/lib/python3.10/site-packages (from langchain==0.3.11) (0.3.8)\n",
      "Requirement already satisfied: langsmith<0.3,>=0.1.17 in /Users/azeez/miniforge3/lib/python3.10/site-packages (from langchain==0.3.11) (0.2.11)\n",
      "Requirement already satisfied: numpy<2,>=1.22.4 in /Users/azeez/miniforge3/lib/python3.10/site-packages (from langchain==0.3.11) (1.26.4)\n",
      "Requirement already satisfied: pydantic<3.0.0,>=2.7.4 in /Users/azeez/miniforge3/lib/python3.10/site-packages (from langchain==0.3.11) (2.11.4)\n",
      "Requirement already satisfied: requests<3,>=2 in /Users/azeez/miniforge3/lib/python3.10/site-packages (from langchain==0.3.11) (2.32.3)\n",
      "Requirement already satisfied: tenacity!=8.4.0,<10,>=8.1.0 in /Users/azeez/miniforge3/lib/python3.10/site-packages (from langchain==0.3.11) (9.1.2)\n",
      "Requirement already satisfied: aiohappyeyeballs>=2.3.0 in /Users/azeez/miniforge3/lib/python3.10/site-packages (from aiohttp<4.0.0,>=3.8.3->langchain==0.3.11) (2.6.1)\n",
      "Requirement already satisfied: aiosignal>=1.1.2 in /Users/azeez/miniforge3/lib/python3.10/site-packages (from aiohttp<4.0.0,>=3.8.3->langchain==0.3.11) (1.3.2)\n",
      "Requirement already satisfied: attrs>=17.3.0 in /Users/azeez/miniforge3/lib/python3.10/site-packages (from aiohttp<4.0.0,>=3.8.3->langchain==0.3.11) (24.2.0)\n",
      "Requirement already satisfied: frozenlist>=1.1.1 in /Users/azeez/miniforge3/lib/python3.10/site-packages (from aiohttp<4.0.0,>=3.8.3->langchain==0.3.11) (1.6.0)\n",
      "Requirement already satisfied: multidict<7.0,>=4.5 in /Users/azeez/miniforge3/lib/python3.10/site-packages (from aiohttp<4.0.0,>=3.8.3->langchain==0.3.11) (6.4.3)\n",
      "Requirement already satisfied: propcache>=0.2.0 in /Users/azeez/miniforge3/lib/python3.10/site-packages (from aiohttp<4.0.0,>=3.8.3->langchain==0.3.11) (0.3.1)\n",
      "Requirement already satisfied: yarl<2.0,>=1.17.0 in /Users/azeez/miniforge3/lib/python3.10/site-packages (from aiohttp<4.0.0,>=3.8.3->langchain==0.3.11) (1.20.0)\n",
      "Requirement already satisfied: jsonpatch<2.0,>=1.33 in /Users/azeez/miniforge3/lib/python3.10/site-packages (from langchain-core<0.4.0,>=0.3.24->langchain==0.3.11) (1.33)\n",
      "Requirement already satisfied: packaging<25,>=23.2 in /Users/azeez/miniforge3/lib/python3.10/site-packages (from langchain-core<0.4.0,>=0.3.24->langchain==0.3.11) (24.0)\n",
      "Requirement already satisfied: typing-extensions>=4.7 in /Users/azeez/miniforge3/lib/python3.10/site-packages (from langchain-core<0.4.0,>=0.3.24->langchain==0.3.11) (4.12.2)\n",
      "Requirement already satisfied: httpx<1,>=0.23.0 in /Users/azeez/miniforge3/lib/python3.10/site-packages (from langsmith<0.3,>=0.1.17->langchain==0.3.11) (0.28.0)\n",
      "Requirement already satisfied: orjson<4.0.0,>=3.9.14 in /Users/azeez/miniforge3/lib/python3.10/site-packages (from langsmith<0.3,>=0.1.17->langchain==0.3.11) (3.10.18)\n",
      "Requirement already satisfied: requests-toolbelt<2.0.0,>=1.0.0 in /Users/azeez/miniforge3/lib/python3.10/site-packages (from langsmith<0.3,>=0.1.17->langchain==0.3.11) (1.0.0)\n",
      "Requirement already satisfied: annotated-types>=0.6.0 in /Users/azeez/miniforge3/lib/python3.10/site-packages (from pydantic<3.0.0,>=2.7.4->langchain==0.3.11) (0.7.0)\n",
      "Requirement already satisfied: pydantic-core==2.33.2 in /Users/azeez/miniforge3/lib/python3.10/site-packages (from pydantic<3.0.0,>=2.7.4->langchain==0.3.11) (2.33.2)\n",
      "Requirement already satisfied: typing-inspection>=0.4.0 in /Users/azeez/miniforge3/lib/python3.10/site-packages (from pydantic<3.0.0,>=2.7.4->langchain==0.3.11) (0.4.0)\n",
      "Requirement already satisfied: charset-normalizer<4,>=2 in /Users/azeez/miniforge3/lib/python3.10/site-packages (from requests<3,>=2->langchain==0.3.11) (3.3.2)\n",
      "Requirement already satisfied: idna<4,>=2.5 in /Users/azeez/miniforge3/lib/python3.10/site-packages (from requests<3,>=2->langchain==0.3.11) (3.6)\n",
      "Requirement already satisfied: urllib3<3,>=1.21.1 in /Users/azeez/miniforge3/lib/python3.10/site-packages (from requests<3,>=2->langchain==0.3.11) (2.2.1)\n",
      "Requirement already satisfied: certifi>=2017.4.17 in /Users/azeez/miniforge3/lib/python3.10/site-packages (from requests<3,>=2->langchain==0.3.11) (2025.1.31)\n",
      "Requirement already satisfied: anyio in /Users/azeez/miniforge3/lib/python3.10/site-packages (from httpx<1,>=0.23.0->langsmith<0.3,>=0.1.17->langchain==0.3.11) (4.6.2.post1)\n",
      "Requirement already satisfied: httpcore==1.* in /Users/azeez/miniforge3/lib/python3.10/site-packages (from httpx<1,>=0.23.0->langsmith<0.3,>=0.1.17->langchain==0.3.11) (1.0.7)\n",
      "Requirement already satisfied: h11<0.15,>=0.13 in /Users/azeez/miniforge3/lib/python3.10/site-packages (from httpcore==1.*->httpx<1,>=0.23.0->langsmith<0.3,>=0.1.17->langchain==0.3.11) (0.14.0)\n",
      "Requirement already satisfied: jsonpointer>=1.9 in /Users/azeez/miniforge3/lib/python3.10/site-packages (from jsonpatch<2.0,>=1.33->langchain-core<0.4.0,>=0.3.24->langchain==0.3.11) (2.4)\n",
      "Requirement already satisfied: sniffio>=1.1 in /Users/azeez/miniforge3/lib/python3.10/site-packages (from anyio->httpx<1,>=0.23.0->langsmith<0.3,>=0.1.17->langchain==0.3.11) (1.3.1)\n",
      "Requirement already satisfied: exceptiongroup>=1.0.2 in /Users/azeez/miniforge3/lib/python3.10/site-packages (from anyio->httpx<1,>=0.23.0->langsmith<0.3,>=0.1.17->langchain==0.3.11) (1.2.2)\n",
      "Requirement already satisfied: langchain-openai==0.2.12 in /Users/azeez/miniforge3/lib/python3.10/site-packages (0.2.12)\n",
      "Requirement already satisfied: langchain-core<0.4.0,>=0.3.21 in /Users/azeez/miniforge3/lib/python3.10/site-packages (from langchain-openai==0.2.12) (0.3.63)\n",
      "Requirement already satisfied: openai<2.0.0,>=1.55.3 in /Users/azeez/miniforge3/lib/python3.10/site-packages (from langchain-openai==0.2.12) (1.77.0)\n",
      "Requirement already satisfied: tiktoken<1,>=0.7 in /Users/azeez/miniforge3/lib/python3.10/site-packages (from langchain-openai==0.2.12) (0.9.0)\n",
      "Requirement already satisfied: langsmith<0.4,>=0.1.126 in /Users/azeez/miniforge3/lib/python3.10/site-packages (from langchain-core<0.4.0,>=0.3.21->langchain-openai==0.2.12) (0.2.11)\n",
      "Requirement already satisfied: tenacity!=8.4.0,<10.0.0,>=8.1.0 in /Users/azeez/miniforge3/lib/python3.10/site-packages (from langchain-core<0.4.0,>=0.3.21->langchain-openai==0.2.12) (9.1.2)\n",
      "Requirement already satisfied: jsonpatch<2.0,>=1.33 in /Users/azeez/miniforge3/lib/python3.10/site-packages (from langchain-core<0.4.0,>=0.3.21->langchain-openai==0.2.12) (1.33)\n",
      "Requirement already satisfied: PyYAML>=5.3 in /Users/azeez/miniforge3/lib/python3.10/site-packages (from langchain-core<0.4.0,>=0.3.21->langchain-openai==0.2.12) (6.0.2)\n",
      "Requirement already satisfied: packaging<25,>=23.2 in /Users/azeez/miniforge3/lib/python3.10/site-packages (from langchain-core<0.4.0,>=0.3.21->langchain-openai==0.2.12) (24.0)\n",
      "Requirement already satisfied: typing-extensions>=4.7 in /Users/azeez/miniforge3/lib/python3.10/site-packages (from langchain-core<0.4.0,>=0.3.21->langchain-openai==0.2.12) (4.12.2)\n",
      "Requirement already satisfied: pydantic>=2.7.4 in /Users/azeez/miniforge3/lib/python3.10/site-packages (from langchain-core<0.4.0,>=0.3.21->langchain-openai==0.2.12) (2.11.4)\n",
      "Requirement already satisfied: anyio<5,>=3.5.0 in /Users/azeez/miniforge3/lib/python3.10/site-packages (from openai<2.0.0,>=1.55.3->langchain-openai==0.2.12) (4.6.2.post1)\n",
      "Requirement already satisfied: distro<2,>=1.7.0 in /Users/azeez/miniforge3/lib/python3.10/site-packages (from openai<2.0.0,>=1.55.3->langchain-openai==0.2.12) (1.9.0)\n",
      "Requirement already satisfied: httpx<1,>=0.23.0 in /Users/azeez/miniforge3/lib/python3.10/site-packages (from openai<2.0.0,>=1.55.3->langchain-openai==0.2.12) (0.28.0)\n",
      "Requirement already satisfied: jiter<1,>=0.4.0 in /Users/azeez/miniforge3/lib/python3.10/site-packages (from openai<2.0.0,>=1.55.3->langchain-openai==0.2.12) (0.9.0)\n",
      "Requirement already satisfied: sniffio in /Users/azeez/miniforge3/lib/python3.10/site-packages (from openai<2.0.0,>=1.55.3->langchain-openai==0.2.12) (1.3.1)\n",
      "Requirement already satisfied: tqdm>4 in /Users/azeez/miniforge3/lib/python3.10/site-packages (from openai<2.0.0,>=1.55.3->langchain-openai==0.2.12) (4.67.1)\n",
      "Requirement already satisfied: regex>=2022.1.18 in /Users/azeez/miniforge3/lib/python3.10/site-packages (from tiktoken<1,>=0.7->langchain-openai==0.2.12) (2024.11.6)\n",
      "Requirement already satisfied: requests>=2.26.0 in /Users/azeez/miniforge3/lib/python3.10/site-packages (from tiktoken<1,>=0.7->langchain-openai==0.2.12) (2.32.3)\n",
      "Requirement already satisfied: idna>=2.8 in /Users/azeez/miniforge3/lib/python3.10/site-packages (from anyio<5,>=3.5.0->openai<2.0.0,>=1.55.3->langchain-openai==0.2.12) (3.6)\n",
      "Requirement already satisfied: exceptiongroup>=1.0.2 in /Users/azeez/miniforge3/lib/python3.10/site-packages (from anyio<5,>=3.5.0->openai<2.0.0,>=1.55.3->langchain-openai==0.2.12) (1.2.2)\n",
      "Requirement already satisfied: certifi in /Users/azeez/miniforge3/lib/python3.10/site-packages (from httpx<1,>=0.23.0->openai<2.0.0,>=1.55.3->langchain-openai==0.2.12) (2025.1.31)\n",
      "Requirement already satisfied: httpcore==1.* in /Users/azeez/miniforge3/lib/python3.10/site-packages (from httpx<1,>=0.23.0->openai<2.0.0,>=1.55.3->langchain-openai==0.2.12) (1.0.7)\n",
      "Requirement already satisfied: h11<0.15,>=0.13 in /Users/azeez/miniforge3/lib/python3.10/site-packages (from httpcore==1.*->httpx<1,>=0.23.0->openai<2.0.0,>=1.55.3->langchain-openai==0.2.12) (0.14.0)\n",
      "Requirement already satisfied: jsonpointer>=1.9 in /Users/azeez/miniforge3/lib/python3.10/site-packages (from jsonpatch<2.0,>=1.33->langchain-core<0.4.0,>=0.3.21->langchain-openai==0.2.12) (2.4)\n",
      "Requirement already satisfied: orjson<4.0.0,>=3.9.14 in /Users/azeez/miniforge3/lib/python3.10/site-packages (from langsmith<0.4,>=0.1.126->langchain-core<0.4.0,>=0.3.21->langchain-openai==0.2.12) (3.10.18)\n",
      "Requirement already satisfied: requests-toolbelt<2.0.0,>=1.0.0 in /Users/azeez/miniforge3/lib/python3.10/site-packages (from langsmith<0.4,>=0.1.126->langchain-core<0.4.0,>=0.3.21->langchain-openai==0.2.12) (1.0.0)\n",
      "Requirement already satisfied: annotated-types>=0.6.0 in /Users/azeez/miniforge3/lib/python3.10/site-packages (from pydantic>=2.7.4->langchain-core<0.4.0,>=0.3.21->langchain-openai==0.2.12) (0.7.0)\n",
      "Requirement already satisfied: pydantic-core==2.33.2 in /Users/azeez/miniforge3/lib/python3.10/site-packages (from pydantic>=2.7.4->langchain-core<0.4.0,>=0.3.21->langchain-openai==0.2.12) (2.33.2)\n",
      "Requirement already satisfied: typing-inspection>=0.4.0 in /Users/azeez/miniforge3/lib/python3.10/site-packages (from pydantic>=2.7.4->langchain-core<0.4.0,>=0.3.21->langchain-openai==0.2.12) (0.4.0)\n",
      "Requirement already satisfied: charset-normalizer<4,>=2 in /Users/azeez/miniforge3/lib/python3.10/site-packages (from requests>=2.26.0->tiktoken<1,>=0.7->langchain-openai==0.2.12) (3.3.2)\n",
      "Requirement already satisfied: urllib3<3,>=1.21.1 in /Users/azeez/miniforge3/lib/python3.10/site-packages (from requests>=2.26.0->tiktoken<1,>=0.7->langchain-openai==0.2.12) (2.2.1)\n",
      "Requirement already satisfied: langchain-community==0.3.11 in /Users/azeez/miniforge3/lib/python3.10/site-packages (0.3.11)\n",
      "Requirement already satisfied: PyYAML>=5.3 in /Users/azeez/miniforge3/lib/python3.10/site-packages (from langchain-community==0.3.11) (6.0.2)\n",
      "Requirement already satisfied: SQLAlchemy<3,>=1.4 in /Users/azeez/miniforge3/lib/python3.10/site-packages (from langchain-community==0.3.11) (2.0.40)\n",
      "Requirement already satisfied: aiohttp<4.0.0,>=3.8.3 in /Users/azeez/miniforge3/lib/python3.10/site-packages (from langchain-community==0.3.11) (3.11.18)\n",
      "Requirement already satisfied: dataclasses-json<0.7,>=0.5.7 in /Users/azeez/miniforge3/lib/python3.10/site-packages (from langchain-community==0.3.11) (0.6.7)\n",
      "Requirement already satisfied: httpx-sse<0.5.0,>=0.4.0 in /Users/azeez/miniforge3/lib/python3.10/site-packages (from langchain-community==0.3.11) (0.4.0)\n",
      "Requirement already satisfied: langchain<0.4.0,>=0.3.11 in /Users/azeez/miniforge3/lib/python3.10/site-packages (from langchain-community==0.3.11) (0.3.11)\n",
      "Requirement already satisfied: langchain-core<0.4.0,>=0.3.24 in /Users/azeez/miniforge3/lib/python3.10/site-packages (from langchain-community==0.3.11) (0.3.63)\n",
      "Requirement already satisfied: langsmith<0.3,>=0.1.125 in /Users/azeez/miniforge3/lib/python3.10/site-packages (from langchain-community==0.3.11) (0.2.11)\n",
      "Requirement already satisfied: numpy<2,>=1.22.4 in /Users/azeez/miniforge3/lib/python3.10/site-packages (from langchain-community==0.3.11) (1.26.4)\n",
      "Requirement already satisfied: pydantic-settings<3.0.0,>=2.4.0 in /Users/azeez/miniforge3/lib/python3.10/site-packages (from langchain-community==0.3.11) (2.9.1)\n",
      "Requirement already satisfied: requests<3,>=2 in /Users/azeez/miniforge3/lib/python3.10/site-packages (from langchain-community==0.3.11) (2.32.3)\n",
      "Requirement already satisfied: tenacity!=8.4.0,<10,>=8.1.0 in /Users/azeez/miniforge3/lib/python3.10/site-packages (from langchain-community==0.3.11) (9.1.2)\n",
      "Requirement already satisfied: aiohappyeyeballs>=2.3.0 in /Users/azeez/miniforge3/lib/python3.10/site-packages (from aiohttp<4.0.0,>=3.8.3->langchain-community==0.3.11) (2.6.1)\n",
      "Requirement already satisfied: aiosignal>=1.1.2 in /Users/azeez/miniforge3/lib/python3.10/site-packages (from aiohttp<4.0.0,>=3.8.3->langchain-community==0.3.11) (1.3.2)\n",
      "Requirement already satisfied: async-timeout<6.0,>=4.0 in /Users/azeez/miniforge3/lib/python3.10/site-packages (from aiohttp<4.0.0,>=3.8.3->langchain-community==0.3.11) (4.0.3)\n",
      "Requirement already satisfied: attrs>=17.3.0 in /Users/azeez/miniforge3/lib/python3.10/site-packages (from aiohttp<4.0.0,>=3.8.3->langchain-community==0.3.11) (24.2.0)\n",
      "Requirement already satisfied: frozenlist>=1.1.1 in /Users/azeez/miniforge3/lib/python3.10/site-packages (from aiohttp<4.0.0,>=3.8.3->langchain-community==0.3.11) (1.6.0)\n",
      "Requirement already satisfied: multidict<7.0,>=4.5 in /Users/azeez/miniforge3/lib/python3.10/site-packages (from aiohttp<4.0.0,>=3.8.3->langchain-community==0.3.11) (6.4.3)\n",
      "Requirement already satisfied: propcache>=0.2.0 in /Users/azeez/miniforge3/lib/python3.10/site-packages (from aiohttp<4.0.0,>=3.8.3->langchain-community==0.3.11) (0.3.1)\n",
      "Requirement already satisfied: yarl<2.0,>=1.17.0 in /Users/azeez/miniforge3/lib/python3.10/site-packages (from aiohttp<4.0.0,>=3.8.3->langchain-community==0.3.11) (1.20.0)\n",
      "Requirement already satisfied: marshmallow<4.0.0,>=3.18.0 in /Users/azeez/miniforge3/lib/python3.10/site-packages (from dataclasses-json<0.7,>=0.5.7->langchain-community==0.3.11) (3.26.1)\n",
      "Requirement already satisfied: typing-inspect<1,>=0.4.0 in /Users/azeez/miniforge3/lib/python3.10/site-packages (from dataclasses-json<0.7,>=0.5.7->langchain-community==0.3.11) (0.9.0)\n",
      "Requirement already satisfied: langchain-text-splitters<0.4.0,>=0.3.0 in /Users/azeez/miniforge3/lib/python3.10/site-packages (from langchain<0.4.0,>=0.3.11->langchain-community==0.3.11) (0.3.8)\n",
      "Requirement already satisfied: pydantic<3.0.0,>=2.7.4 in /Users/azeez/miniforge3/lib/python3.10/site-packages (from langchain<0.4.0,>=0.3.11->langchain-community==0.3.11) (2.11.4)\n",
      "Requirement already satisfied: jsonpatch<2.0,>=1.33 in /Users/azeez/miniforge3/lib/python3.10/site-packages (from langchain-core<0.4.0,>=0.3.24->langchain-community==0.3.11) (1.33)\n",
      "Requirement already satisfied: packaging<25,>=23.2 in /Users/azeez/miniforge3/lib/python3.10/site-packages (from langchain-core<0.4.0,>=0.3.24->langchain-community==0.3.11) (24.0)\n",
      "Requirement already satisfied: typing-extensions>=4.7 in /Users/azeez/miniforge3/lib/python3.10/site-packages (from langchain-core<0.4.0,>=0.3.24->langchain-community==0.3.11) (4.12.2)\n",
      "Requirement already satisfied: httpx<1,>=0.23.0 in /Users/azeez/miniforge3/lib/python3.10/site-packages (from langsmith<0.3,>=0.1.125->langchain-community==0.3.11) (0.28.0)\n",
      "Requirement already satisfied: orjson<4.0.0,>=3.9.14 in /Users/azeez/miniforge3/lib/python3.10/site-packages (from langsmith<0.3,>=0.1.125->langchain-community==0.3.11) (3.10.18)\n",
      "Requirement already satisfied: requests-toolbelt<2.0.0,>=1.0.0 in /Users/azeez/miniforge3/lib/python3.10/site-packages (from langsmith<0.3,>=0.1.125->langchain-community==0.3.11) (1.0.0)\n",
      "Requirement already satisfied: python-dotenv>=0.21.0 in /Users/azeez/miniforge3/lib/python3.10/site-packages (from pydantic-settings<3.0.0,>=2.4.0->langchain-community==0.3.11) (1.1.0)\n",
      "Requirement already satisfied: typing-inspection>=0.4.0 in /Users/azeez/miniforge3/lib/python3.10/site-packages (from pydantic-settings<3.0.0,>=2.4.0->langchain-community==0.3.11) (0.4.0)\n",
      "Requirement already satisfied: charset-normalizer<4,>=2 in /Users/azeez/miniforge3/lib/python3.10/site-packages (from requests<3,>=2->langchain-community==0.3.11) (3.3.2)\n",
      "Requirement already satisfied: idna<4,>=2.5 in /Users/azeez/miniforge3/lib/python3.10/site-packages (from requests<3,>=2->langchain-community==0.3.11) (3.6)\n",
      "Requirement already satisfied: urllib3<3,>=1.21.1 in /Users/azeez/miniforge3/lib/python3.10/site-packages (from requests<3,>=2->langchain-community==0.3.11) (2.2.1)\n",
      "Requirement already satisfied: certifi>=2017.4.17 in /Users/azeez/miniforge3/lib/python3.10/site-packages (from requests<3,>=2->langchain-community==0.3.11) (2025.1.31)\n",
      "Requirement already satisfied: anyio in /Users/azeez/miniforge3/lib/python3.10/site-packages (from httpx<1,>=0.23.0->langsmith<0.3,>=0.1.125->langchain-community==0.3.11) (4.6.2.post1)\n",
      "Requirement already satisfied: httpcore==1.* in /Users/azeez/miniforge3/lib/python3.10/site-packages (from httpx<1,>=0.23.0->langsmith<0.3,>=0.1.125->langchain-community==0.3.11) (1.0.7)\n",
      "Requirement already satisfied: h11<0.15,>=0.13 in /Users/azeez/miniforge3/lib/python3.10/site-packages (from httpcore==1.*->httpx<1,>=0.23.0->langsmith<0.3,>=0.1.125->langchain-community==0.3.11) (0.14.0)\n",
      "Requirement already satisfied: jsonpointer>=1.9 in /Users/azeez/miniforge3/lib/python3.10/site-packages (from jsonpatch<2.0,>=1.33->langchain-core<0.4.0,>=0.3.24->langchain-community==0.3.11) (2.4)\n",
      "Requirement already satisfied: annotated-types>=0.6.0 in /Users/azeez/miniforge3/lib/python3.10/site-packages (from pydantic<3.0.0,>=2.7.4->langchain<0.4.0,>=0.3.11->langchain-community==0.3.11) (0.7.0)\n",
      "Requirement already satisfied: pydantic-core==2.33.2 in /Users/azeez/miniforge3/lib/python3.10/site-packages (from pydantic<3.0.0,>=2.7.4->langchain<0.4.0,>=0.3.11->langchain-community==0.3.11) (2.33.2)\n",
      "Requirement already satisfied: mypy-extensions>=0.3.0 in /Users/azeez/miniforge3/lib/python3.10/site-packages (from typing-inspect<1,>=0.4.0->dataclasses-json<0.7,>=0.5.7->langchain-community==0.3.11) (1.1.0)\n",
      "Requirement already satisfied: sniffio>=1.1 in /Users/azeez/miniforge3/lib/python3.10/site-packages (from anyio->httpx<1,>=0.23.0->langsmith<0.3,>=0.1.125->langchain-community==0.3.11) (1.3.1)\n",
      "Requirement already satisfied: exceptiongroup>=1.0.2 in /Users/azeez/miniforge3/lib/python3.10/site-packages (from anyio->httpx<1,>=0.23.0->langsmith<0.3,>=0.1.125->langchain-community==0.3.11) (1.2.2)\n"
     ]
    }
   ],
   "source": [
    "!pip install langchain==0.3.11\n",
    "!pip install langchain-openai==0.2.12\n",
    "!pip install langchain-community==0.3.11"
   ]
  },
  {
   "cell_type": "code",
   "execution_count": 3,
   "metadata": {},
   "outputs": [],
   "source": [
    "from getpass import getpass \n",
    "\n",
    "OPENAI_KEY = getpass('Enter Open AI API Key: ')"
   ]
  },
  {
   "cell_type": "code",
   "execution_count": 6,
   "metadata": {},
   "outputs": [],
   "source": [
    "import os \n",
    "\n",
    "os.environ['OPENAI_API_KEY'] = OPENAI_KEY "
   ]
  },
  {
   "cell_type": "code",
   "execution_count": 7,
   "metadata": {},
   "outputs": [],
   "source": [
    "from langchain_openai import ChatOpenAI \n",
    "\n",
    "chatgpt = ChatOpenAI(model_name=\"gpt-4o-mini\",\n",
    "                     temperature=0)"
   ]
  },
  {
   "cell_type": "code",
   "execution_count": 8,
   "metadata": {},
   "outputs": [
    {
     "data": {
      "text/plain": [
       "PromptTemplate(input_variables=[], input_types={}, partial_variables={}, template='Explain to me what is Generative AI in 3 bullet points?')"
      ]
     },
     "execution_count": 8,
     "metadata": {},
     "output_type": "execute_result"
    }
   ],
   "source": [
    "from langchain.prompts import PromptTemplate\n",
    "\n",
    "# Simple prompt \n",
    "\n",
    "prompt = \"\"\"Explain to me what is Generative AI in 3 bullet points?\"\"\"\n",
    "prompt_template = PromptTemplate.from_template(prompt)\n",
    "prompt_template "
   ]
  },
  {
   "cell_type": "code",
   "execution_count": 9,
   "metadata": {},
   "outputs": [
    {
     "data": {
      "text/plain": [
       "'Explain to me what is Generative AI in 3 bullet points?'"
      ]
     },
     "execution_count": 9,
     "metadata": {},
     "output_type": "execute_result"
    }
   ],
   "source": [
    "prompt_template.format()"
   ]
  },
  {
   "cell_type": "code",
   "execution_count": 11,
   "metadata": {},
   "outputs": [
    {
     "name": "stdout",
     "output_type": "stream",
     "text": [
      "- **Definition**: Generative AI refers to a class of artificial intelligence models that can create new content, such as text, images, music, or videos, by learning patterns and structures from existing data.\n",
      "\n",
      "- **Techniques**: It often employs advanced techniques like deep learning, particularly neural networks such as Generative Adversarial Networks (GANs) and transformer models, to generate high-quality and coherent outputs.\n",
      "\n",
      "- **Applications**: Generative AI is used in various fields, including creative arts (e.g., art and music generation), content creation (e.g., writing and summarization), and even in practical applications like drug discovery and data augmentation.\n"
     ]
    }
   ],
   "source": [
    "response = chatgpt.invoke(prompt_template.format())\n",
    "print(response.content)"
   ]
  },
  {
   "cell_type": "code",
   "execution_count": 12,
   "metadata": {},
   "outputs": [
    {
     "data": {
      "text/plain": [
       "PromptTemplate(input_variables=['language', 'topic'], input_types={}, partial_variables={}, template='Explain to me briefly about {topic} in {language}.')"
      ]
     },
     "execution_count": 12,
     "metadata": {},
     "output_type": "execute_result"
    }
   ],
   "source": [
    "# more complex prompt with placeholders \n",
    "\n",
    "prompt = \"\"\"Explain to me briefly about {topic} in {language}.\"\"\"\n",
    "\n",
    "prompt_template = PromptTemplate.from_template(prompt) \n",
    "prompt_template "
   ]
  },
  {
   "cell_type": "code",
   "execution_count": 13,
   "metadata": {},
   "outputs": [
    {
     "data": {
      "text/plain": [
       "['Explain to me briefly about Generative AI in english.',\n",
       " 'Explain to me briefly about Artificial Intelligence in hindi.',\n",
       " 'Explain to me briefly about Deep Learning in german.']"
      ]
     },
     "execution_count": 13,
     "metadata": {},
     "output_type": "execute_result"
    }
   ],
   "source": [
    "inputs = [(\"Generative AI\", \"english\"),\n",
    "          (\"Artificial Intelligence\", \"hindi\"),\n",
    "          (\"Deep Learning\", \"german\")]\n",
    "\n",
    "prompts = [prompt_template.format(topic=topic, language=language) for topic, language in inputs]\n",
    "prompts "
   ]
  },
  {
   "cell_type": "code",
   "execution_count": 14,
   "metadata": {},
   "outputs": [],
   "source": [
    "# use map to run on multiple prompts in one go \n",
    "responses = chatgpt.map().invoke(prompts) "
   ]
  },
  {
   "cell_type": "code",
   "execution_count": 15,
   "metadata": {},
   "outputs": [
    {
     "data": {
      "text/plain": [
       "[AIMessage(content='Generative AI refers to a class of artificial intelligence models that can create new content, such as text, images, music, or even videos, based on the patterns and information they have learned from existing data. These models, like GPT-3 for text or DALL-E for images, use deep learning techniques to understand and generate outputs that resemble human-created content. Generative AI has applications in various fields, including art, entertainment, marketing, and more, enabling innovative solutions and creative possibilities.', additional_kwargs={'refusal': None}, response_metadata={'token_usage': {'completion_tokens': 99, 'prompt_tokens': 18, 'total_tokens': 117, 'completion_tokens_details': {'accepted_prediction_tokens': 0, 'audio_tokens': 0, 'reasoning_tokens': 0, 'rejected_prediction_tokens': 0}, 'prompt_tokens_details': {'audio_tokens': 0, 'cached_tokens': 0}}, 'model_name': 'gpt-4o-mini-2024-07-18', 'system_fingerprint': None, 'finish_reason': 'stop', 'logprobs': None}, id='run--94ae37ff-9ec9-4e37-8000-f6373f6321fd-0', usage_metadata={'input_tokens': 18, 'output_tokens': 99, 'total_tokens': 117, 'input_token_details': {'audio': 0, 'cache_read': 0}, 'output_token_details': {'audio': 0, 'reasoning': 0}}),\n",
       " AIMessage(content='कृत्रिम बुद्धिमत्ता (Artificial Intelligence या AI) एक तकनीक है जो मशीनों और कंप्यूटरों को मानव जैसी बुद्धिमत्ता और सोचने की क्षमता प्रदान करती है। इसका उद्देश्य मशीनों को ऐसे कार्य करने में सक्षम बनाना है जो सामान्यतः मानव बुद्धि की आवश्यकता होती है, जैसे कि समस्या समाधान, निर्णय लेना, भाषा समझना, और सीखना।\\n\\nAI के विभिन्न प्रकार हैं, जैसे कि:\\n\\n1. **नैरो AI (Narrow AI)**: यह विशेष कार्यों के लिए डिज़ाइन किया गया है, जैसे कि वॉयस असिस्टेंट (जैसे कि सिरी या एलेक्सा) या छवि पहचान।\\n\\n2. **जनरल AI (General AI)**: यह मानव जैसी बुद्धिमत्ता को दर्शाता है, जो विभिन्न कार्यों को समझने और करने में सक्षम है। यह अभी तक पूरी तरह से विकसित नहीं हुआ है।\\n\\nAI का उपयोग विभिन्न क्षेत्रों में किया जा रहा है, जैसे कि स्वास्थ्य, वित्त, परिवहन, और मनोरंजन। यह तकनीक हमारे जीवन को सरल और अधिक प्रभावी बनाने में मदद कर रही है।', additional_kwargs={'refusal': None}, response_metadata={'token_usage': {'completion_tokens': 228, 'prompt_tokens': 17, 'total_tokens': 245, 'completion_tokens_details': {'accepted_prediction_tokens': 0, 'audio_tokens': 0, 'reasoning_tokens': 0, 'rejected_prediction_tokens': 0}, 'prompt_tokens_details': {'audio_tokens': 0, 'cached_tokens': 0}}, 'model_name': 'gpt-4o-mini-2024-07-18', 'system_fingerprint': None, 'finish_reason': 'stop', 'logprobs': None}, id='run--04fa3491-9949-4a0c-b955-0dea8843c2f1-0', usage_metadata={'input_tokens': 17, 'output_tokens': 228, 'total_tokens': 245, 'input_token_details': {'audio': 0, 'cache_read': 0}, 'output_token_details': {'audio': 0, 'reasoning': 0}}),\n",
       " AIMessage(content='Deep Learning ist ein Teilbereich des maschinellen Lernens, der auf künstlichen neuronalen Netzwerken basiert. Es ermöglicht Computern, aus großen Datenmengen zu lernen und komplexe Muster zu erkennen. Deep Learning wird häufig in Anwendungen wie Bild- und Spracherkennung, natürlicher Sprachverarbeitung und autonomen Fahrzeugen eingesetzt. Durch die Verwendung mehrerer Schichten von Neuronen kann das Modell hierarchische Merkmale aus den Daten extrahieren, was zu einer hohen Genauigkeit bei der Vorhersage und Klassifizierung führt.', additional_kwargs={'refusal': None}, response_metadata={'token_usage': {'completion_tokens': 111, 'prompt_tokens': 17, 'total_tokens': 128, 'completion_tokens_details': {'accepted_prediction_tokens': 0, 'audio_tokens': 0, 'reasoning_tokens': 0, 'rejected_prediction_tokens': 0}, 'prompt_tokens_details': {'audio_tokens': 0, 'cached_tokens': 0}}, 'model_name': 'gpt-4o-mini-2024-07-18', 'system_fingerprint': None, 'finish_reason': 'stop', 'logprobs': None}, id='run--abac64bb-6a34-4053-baf4-6abe857b151c-0', usage_metadata={'input_tokens': 17, 'output_tokens': 111, 'total_tokens': 128, 'input_token_details': {'audio': 0, 'cache_read': 0}, 'output_token_details': {'audio': 0, 'reasoning': 0}})]"
      ]
     },
     "execution_count": 15,
     "metadata": {},
     "output_type": "execute_result"
    }
   ],
   "source": [
    "responses "
   ]
  },
  {
   "cell_type": "code",
   "execution_count": 16,
   "metadata": {},
   "outputs": [
    {
     "name": "stdout",
     "output_type": "stream",
     "text": [
      "Generative AI refers to a class of artificial intelligence models that can create new content, such as text, images, music, or even videos, based on the patterns and information they have learned from existing data. These models, like GPT-3 for text or DALL-E for images, use deep learning techniques to understand and generate outputs that resemble human-created content. Generative AI has applications in various fields, including art, entertainment, marketing, and more, enabling innovative solutions and creative possibilities.\n",
      "------\n",
      "कृत्रिम बुद्धिमत्ता (Artificial Intelligence या AI) एक तकनीक है जो मशीनों और कंप्यूटरों को मानव जैसी बुद्धिमत्ता और सोचने की क्षमता प्रदान करती है। इसका उद्देश्य मशीनों को ऐसे कार्य करने में सक्षम बनाना है जो सामान्यतः मानव बुद्धि की आवश्यकता होती है, जैसे कि समस्या समाधान, निर्णय लेना, भाषा समझना, और सीखना।\n",
      "\n",
      "AI के विभिन्न प्रकार हैं, जैसे कि:\n",
      "\n",
      "1. **नैरो AI (Narrow AI)**: यह विशेष कार्यों के लिए डिज़ाइन किया गया है, जैसे कि वॉयस असिस्टेंट (जैसे कि सिरी या एलेक्सा) या छवि पहचान।\n",
      "\n",
      "2. **जनरल AI (General AI)**: यह मानव जैसी बुद्धिमत्ता को दर्शाता है, जो विभिन्न कार्यों को समझने और करने में सक्षम है। यह अभी तक पूरी तरह से विकसित नहीं हुआ है।\n",
      "\n",
      "AI का उपयोग विभिन्न क्षेत्रों में किया जा रहा है, जैसे कि स्वास्थ्य, वित्त, परिवहन, और मनोरंजन। यह तकनीक हमारे जीवन को सरल और अधिक प्रभावी बनाने में मदद कर रही है।\n",
      "------\n",
      "Deep Learning ist ein Teilbereich des maschinellen Lernens, der auf künstlichen neuronalen Netzwerken basiert. Es ermöglicht Computern, aus großen Datenmengen zu lernen und komplexe Muster zu erkennen. Deep Learning wird häufig in Anwendungen wie Bild- und Spracherkennung, natürlicher Sprachverarbeitung und autonomen Fahrzeugen eingesetzt. Durch die Verwendung mehrerer Schichten von Neuronen kann das Modell hierarchische Merkmale aus den Daten extrahieren, was zu einer hohen Genauigkeit bei der Vorhersage und Klassifizierung führt.\n",
      "------\n"
     ]
    }
   ],
   "source": [
    "for response in responses:\n",
    "    print(response.content)\n",
    "    print('------')"
   ]
  },
  {
   "cell_type": "markdown",
   "metadata": {},
   "source": [
    "### ChatPromptTemplate "
   ]
  },
  {
   "cell_type": "code",
   "execution_count": 18,
   "metadata": {},
   "outputs": [
    {
     "data": {
      "text/plain": [
       "ChatPromptTemplate(input_variables=['topic'], input_types={}, partial_variables={}, messages=[HumanMessagePromptTemplate(prompt=PromptTemplate(input_variables=['topic'], input_types={}, partial_variables={}, template='Explain to me briefly about {topic}.'), additional_kwargs={})])"
      ]
     },
     "execution_count": 18,
     "metadata": {},
     "output_type": "execute_result"
    }
   ],
   "source": [
    "from langchain_core.prompts import ChatPromptTemplate  \n",
    "\n",
    "# simple prompt with placeholders \n",
    "prompt = \"\"\"Explain to me briefly about {topic}.\"\"\"\n",
    "\n",
    "chat_template = ChatPromptTemplate.from_template(prompt)\n",
    "chat_template "
   ]
  },
  {
   "cell_type": "code",
   "execution_count": 19,
   "metadata": {},
   "outputs": [
    {
     "data": {
      "text/plain": [
       "['Human: Explain to me briefly about mortgage.',\n",
       " 'Human: Explain to me briefly about fractional real estate.',\n",
       " 'Human: Explain to me briefly about commercial real estate.']"
      ]
     },
     "execution_count": 19,
     "metadata": {},
     "output_type": "execute_result"
    }
   ],
   "source": [
    "topics = ['mortgage', 'fractional real estate', 'commercial real estate']\n",
    "prompts = [chat_template.format(topic=topic) for topic in topics]\n",
    "prompts "
   ]
  },
  {
   "cell_type": "code",
   "execution_count": 20,
   "metadata": {},
   "outputs": [
    {
     "name": "stdout",
     "output_type": "stream",
     "text": [
      "A mortgage is a type of loan specifically used to purchase real estate. In a mortgage agreement, the borrower receives funds from a lender (usually a bank or financial institution) to buy a home or property. The borrower agrees to repay the loan amount, plus interest, over a specified period, typically 15 to 30 years. The property itself serves as collateral, meaning if the borrower fails to make payments, the lender can take possession of the property through a process called foreclosure. Mortgages often come with various terms, including fixed or adjustable interest rates, and may require a down payment.\n",
      "------\n",
      "Fractional real estate refers to a shared ownership model where multiple investors collectively own a property, allowing them to invest in real estate without having to purchase an entire property individually. Each investor holds a fraction of the property, which entitles them to a proportional share of the income generated (like rental income) and any appreciation in value. This model can make real estate investment more accessible and affordable, as it lowers the financial barrier to entry. Fractional ownership can apply to various types of properties, including vacation homes, commercial real estate, and more.\n",
      "------\n",
      "Commercial real estate (CRE) refers to properties that are used exclusively for business purposes. This includes a variety of property types such as office buildings, retail spaces, industrial warehouses, multifamily housing (like apartment complexes), and hotels. Investors and businesses typically engage in CRE for income generation through leasing or renting out space, as well as potential appreciation in property value over time. The commercial real estate market is influenced by factors such as location, economic conditions, and market demand, and it often involves more complex transactions and financing compared to residential real estate.\n",
      "------\n"
     ]
    }
   ],
   "source": [
    "responses = chatgpt.map().invoke(prompts)\n",
    "for response in responses:\n",
    "    print(response.content)\n",
    "    print('------')"
   ]
  },
  {
   "cell_type": "code",
   "execution_count": 21,
   "metadata": {},
   "outputs": [
    {
     "data": {
      "text/plain": [
       "AIMessage(content='A mortgage is a type of loan specifically used to purchase real estate. In a mortgage agreement, the borrower receives funds from a lender (usually a bank or financial institution) to buy a home or property. The borrower agrees to repay the loan amount, plus interest, over a specified period, typically 15 to 30 years. The property itself serves as collateral, meaning if the borrower fails to make payments, the lender can take possession of the property through a process called foreclosure. Mortgages often come with various terms, including fixed or adjustable interest rates, and may require a down payment.', additional_kwargs={'refusal': None}, response_metadata={'token_usage': {'completion_tokens': 118, 'prompt_tokens': 16, 'total_tokens': 134, 'completion_tokens_details': {'accepted_prediction_tokens': 0, 'audio_tokens': 0, 'reasoning_tokens': 0, 'rejected_prediction_tokens': 0}, 'prompt_tokens_details': {'audio_tokens': 0, 'cached_tokens': 0}}, 'model_name': 'gpt-4o-mini-2024-07-18', 'system_fingerprint': None, 'finish_reason': 'stop', 'logprobs': None}, id='run--bcaaf7fe-0c0b-4a60-8fa3-4aa5b20d685d-0', usage_metadata={'input_tokens': 16, 'output_tokens': 118, 'total_tokens': 134, 'input_token_details': {'audio': 0, 'cache_read': 0}, 'output_token_details': {'audio': 0, 'reasoning': 0}})"
      ]
     },
     "execution_count": 21,
     "metadata": {},
     "output_type": "execute_result"
    }
   ],
   "source": [
    "responses[0]"
   ]
  },
  {
   "cell_type": "code",
   "execution_count": 22,
   "metadata": {},
   "outputs": [
    {
     "data": {
      "text/plain": [
       "ChatPromptTemplate(input_variables=['user_prompt'], input_types={}, partial_variables={}, messages=[SystemMessagePromptTemplate(prompt=PromptTemplate(input_variables=[], input_types={}, partial_variables={}, template='Act as an expert in real estate and provide brief answers'), additional_kwargs={}), HumanMessagePromptTemplate(prompt=PromptTemplate(input_variables=[], input_types={}, partial_variables={}, template='what is your name?'), additional_kwargs={}), AIMessagePromptTemplate(prompt=PromptTemplate(input_variables=[], input_types={}, partial_variables={}, template='my name is AIBot'), additional_kwargs={}), HumanMessagePromptTemplate(prompt=PromptTemplate(input_variables=['user_prompt'], input_types={}, partial_variables={}, template='{user_prompt}'), additional_kwargs={})])"
      ]
     },
     "execution_count": 22,
     "metadata": {},
     "output_type": "execute_result"
    }
   ],
   "source": [
    "# more complex prompt with a series of messages \n",
    "messages = [\n",
    "    (\"system\", \"Act as an expert in real estate and provide brief answers\"), \n",
    "    (\"human\", \"what is your name?\"), \n",
    "    (\"ai\", \"my name is AIBot\"),\n",
    "    (\"human\", \"{user_prompt}\"),\n",
    "]\n",
    "chat_template = ChatPromptTemplate.from_messages(messages)\n",
    "chat_template "
   ]
  },
  {
   "cell_type": "code",
   "execution_count": 23,
   "metadata": {},
   "outputs": [
    {
     "data": {
      "text/plain": [
       "['System: Act as an expert in real estate and provide brief answers\\nHuman: what is your name?\\nAI: my name is AIBot\\nHuman: what is your name?',\n",
       " 'System: Act as an expert in real estate and provide brief answers\\nHuman: what is your name?\\nAI: my name is AIBot\\nHuman: explain commercial real estate to me']"
      ]
     },
     "execution_count": 23,
     "metadata": {},
     "output_type": "execute_result"
    }
   ],
   "source": [
    "text_prompts = [\"what is your name?\",\n",
    "                \"explain commercial real estate to me\"]\n",
    "chat_prompts = [chat_template.format(user_prompt=prompt) for prompt in text_prompts]\n",
    "chat_prompts "
   ]
  },
  {
   "cell_type": "code",
   "execution_count": 24,
   "metadata": {},
   "outputs": [
    {
     "name": "stdout",
     "output_type": "stream",
     "text": [
      "System: Act as an expert in real estate and provide brief answers\n",
      "Human: what is your name?\n",
      "AI: my name is AIBot\n",
      "Human: what is your name?\n"
     ]
    }
   ],
   "source": [
    "print(chat_prompts[0])"
   ]
  },
  {
   "cell_type": "code",
   "execution_count": 25,
   "metadata": {},
   "outputs": [
    {
     "name": "stdout",
     "output_type": "stream",
     "text": [
      "System: Act as an expert in real estate and provide brief answers\n",
      "Human: what is your name?\n",
      "AI: my name is AIBot\n",
      "Human: explain commercial real estate to me\n"
     ]
    }
   ],
   "source": [
    "print(chat_prompts[1])"
   ]
  },
  {
   "cell_type": "code",
   "execution_count": 27,
   "metadata": {},
   "outputs": [
    {
     "name": "stdout",
     "output_type": "stream",
     "text": [
      "AI: I am AIBot, your real estate expert. How can I assist you today?\n",
      "-----\n",
      "Commercial real estate (CRE) refers to properties used for business purposes, including office buildings, retail spaces, warehouses, and industrial properties. Unlike residential real estate, which is primarily for living, CRE is intended to generate income through leasing or selling. It can be a lucrative investment, often involving longer lease terms and higher returns, but it also comes with unique risks and market dynamics.\n",
      "-----\n"
     ]
    }
   ],
   "source": [
    "responses = chatgpt.map().invoke(chat_prompts)\n",
    "for response in responses:\n",
    "    print(response.content)\n",
    "    print('-----')"
   ]
  },
  {
   "cell_type": "code",
   "execution_count": 28,
   "metadata": {},
   "outputs": [
    {
     "data": {
      "text/plain": [
       "['System: Act as an expert in real estate and provide very detailed answers with examples\\nHuman: what is your name?\\nAI: my name is AIBot\\nHuman: what is your name?',\n",
       " 'System: Act as an expert in real estate and provide very detailed answers with examples\\nHuman: what is your name?\\nAI: my name is AIBot\\nHuman: explain commercial real estate to me']"
      ]
     },
     "execution_count": 28,
     "metadata": {},
     "output_type": "execute_result"
    }
   ],
   "source": [
    "messages = [\n",
    "    (\"system\", \"Act as an expert in real estate and provide very detailed answers with examples\"),\n",
    "    (\"human\", \"what is your name?\"),\n",
    "    (\"ai\", \"my name is AIBot\"),\n",
    "    (\"human\", \"{user_prompt}\"),\n",
    "]\n",
    "chat_template = ChatPromptTemplate.from_messages(messages)\n",
    "text_prompts = [\"what is your name?\", \"explain commercial real estate to me\"]\n",
    "chat_prompts = [chat_template.format(user_prompt=prompt) for prompt in text_prompts]\n",
    "chat_prompts "
   ]
  },
  {
   "cell_type": "code",
   "execution_count": 29,
   "metadata": {},
   "outputs": [
    {
     "name": "stdout",
     "output_type": "stream",
     "text": [
      "AI: My name is AIBot, and I'm here to assist you with any questions you have about real estate. Whether you're looking for information on buying, selling, investing, or understanding market trends, feel free to ask!\n",
      "-----\n",
      "Commercial real estate (CRE) refers to properties that are used exclusively for business purposes. This sector of real estate is distinct from residential real estate, which involves properties designed for people to live in. Understanding commercial real estate involves recognizing its various types, investment strategies, and market dynamics.\n",
      "\n",
      "### Types of Commercial Real Estate\n",
      "\n",
      "1. **Office Buildings**: These properties are designed for business operations and can range from single-tenant buildings to large skyscrapers. They are often categorized into:\n",
      "   - **Class A**: High-quality buildings in prime locations with top amenities (e.g., One World Trade Center in New York City).\n",
      "   - **Class B**: Older buildings that are still in good condition but may not have the same prestige as Class A.\n",
      "   - **Class C**: Older buildings in less desirable locations, often requiring significant renovations.\n",
      "\n",
      "2. **Retail Properties**: These include shopping centers, malls, and standalone stores. Retail properties can be further divided into:\n",
      "   - **Neighborhood Centers**: Small shopping areas that serve local communities (e.g., grocery stores, pharmacies).\n",
      "   - **Regional Malls**: Larger shopping complexes that attract customers from a wider area.\n",
      "   - **Power Centers**: Large retail spaces that typically house big-box retailers (e.g., Walmart, Target).\n",
      "\n",
      "3. **Industrial Properties**: These are used for manufacturing, production, distribution, and storage. Examples include:\n",
      "   - **Warehouses**: Facilities for storing goods (e.g., Amazon fulfillment centers).\n",
      "   - **Manufacturing Plants**: Facilities where products are made (e.g., automobile factories).\n",
      "   - **Flex Spaces**: Versatile spaces that can be used for both office and industrial purposes.\n",
      "\n",
      "4. **Multifamily Properties**: While often considered residential, multifamily properties with five or more units are classified as commercial real estate. Examples include:\n",
      "   - **Apartment Complexes**: Large buildings or groups of buildings with multiple rental units.\n",
      "   - **Condominiums**: Individually owned units within a larger building.\n",
      "\n",
      "5. **Hospitality Properties**: This category includes hotels, motels, and resorts. These properties are often evaluated based on occupancy rates and average daily rates (ADR).\n",
      "\n",
      "6. **Special Purpose Properties**: These are unique properties that do not fit into the other categories, such as schools, churches, and self-storage facilities.\n",
      "\n",
      "### Investment Strategies\n",
      "\n",
      "Investing in commercial real estate can be lucrative, but it also comes with risks. Here are some common strategies:\n",
      "\n",
      "1. **Buy and Hold**: Investors purchase properties and hold them for long-term appreciation and rental income. For example, an investor might buy a shopping center, lease it to tenants, and benefit from both rental income and property value appreciation over time.\n",
      "\n",
      "2. **Value-Add Investments**: This strategy involves purchasing underperforming properties, making improvements (e.g., renovations, better management), and then increasing their value. For instance, an investor might buy an older office building, upgrade its amenities, and then lease it at higher rates.\n",
      "\n",
      "3. **Flipping**: Similar to residential flipping, this involves buying properties, making quick improvements, and selling them for a profit. This strategy requires a keen understanding of market trends and renovation costs.\n",
      "\n",
      "4. **REITs (Real Estate Investment Trusts)**: For those who prefer not to directly manage properties, investing in REITs allows individuals to invest in a portfolio of commercial real estate assets. REITs are traded on stock exchanges and provide dividends to investors.\n",
      "\n",
      "### Market Dynamics\n",
      "\n",
      "The commercial real estate market is influenced by various factors, including:\n",
      "\n",
      "- **Economic Conditions**: Economic growth typically leads to increased demand for commercial space, while recessions can lead to higher vacancy rates.\n",
      "- **Interest Rates**: Higher interest rates can increase borrowing costs, affecting property purchases and development.\n",
      "- **Location**: The adage \"location, location, location\" holds true in commercial real estate. Properties in prime locations tend to attract higher rents and have lower vacancy rates.\n",
      "- **Zoning Laws**: Local regulations can impact what types of businesses can operate in certain areas, affecting property values and investment potential.\n",
      "\n",
      "### Example\n",
      "\n",
      "Consider a scenario where an investor purchases a Class B office building in a growing suburban area. The building is currently 70% leased, and the investor sees potential for improvement. They decide to:\n",
      "\n",
      "1. **Renovate Common Areas**: Upgrading the lobby and adding amenities like a fitness center to attract higher-quality tenants.\n",
      "2. **Improve Marketing**: Implementing a marketing strategy to attract new tenants, including digital advertising and partnerships with local businesses.\n",
      "3. **Adjust Lease Terms**: Offering flexible lease terms to attract startups and small businesses.\n",
      "\n",
      "After a year of renovations and improved management, the building's occupancy rises to 90%, and the investor can increase rents due to the enhanced property value. This strategy exemplifies the value-add approach in commercial real estate.\n",
      "\n",
      "In summary, commercial real estate encompasses a wide range of property types and investment strategies, each with its own set of risks and rewards. Understanding the nuances of this market is crucial for successful investment and management.\n",
      "-----\n"
     ]
    }
   ],
   "source": [
    "responses = chatgpt.map().invoke(chat_prompts)\n",
    "for response in responses:\n",
    "    print(response.content)\n",
    "    print('-----')"
   ]
  },
  {
   "cell_type": "markdown",
   "metadata": {},
   "source": [
    "### PromptTemplate and ChatPromptTemplate supports LCEL "
   ]
  },
  {
   "cell_type": "code",
   "execution_count": 31,
   "metadata": {},
   "outputs": [
    {
     "data": {
      "text/plain": [
       "[ChatPromptValue(messages=[SystemMessage(content='Act as an expert in real estate and provide very detailed answers with examples', additional_kwargs={}, response_metadata={}), HumanMessage(content='what is your name?', additional_kwargs={}, response_metadata={}), AIMessage(content='my name is AIBot', additional_kwargs={}, response_metadata={}), HumanMessage(content='what is your name?', additional_kwargs={}, response_metadata={})]),\n",
       " ChatPromptValue(messages=[SystemMessage(content='Act as an expert in real estate and provide very detailed answers with examples', additional_kwargs={}, response_metadata={}), HumanMessage(content='what is your name?', additional_kwargs={}, response_metadata={}), AIMessage(content='my name is AIBot', additional_kwargs={}, response_metadata={}), HumanMessage(content='explain commercial real estate to me', additional_kwargs={}, response_metadata={})])]"
      ]
     },
     "execution_count": 31,
     "metadata": {},
     "output_type": "execute_result"
    }
   ],
   "source": [
    "text_prompts = [\"what is your name?\", \"explain commercial real estate to me\"]\n",
    "chat_prompts = [chat_template.invoke({'user_prompt' : prompt}) for prompt in text_prompts]\n",
    "chat_prompts "
   ]
  },
  {
   "cell_type": "code",
   "execution_count": 32,
   "metadata": {},
   "outputs": [
    {
     "data": {
      "text/plain": [
       "ChatPromptValue(messages=[SystemMessage(content='Act as an expert in real estate and provide very detailed answers with examples', additional_kwargs={}, response_metadata={}), HumanMessage(content='what is your name?', additional_kwargs={}, response_metadata={}), AIMessage(content='my name is AIBot', additional_kwargs={}, response_metadata={}), HumanMessage(content='explain commercial real estate to me', additional_kwargs={}, response_metadata={})])"
      ]
     },
     "execution_count": 32,
     "metadata": {},
     "output_type": "execute_result"
    }
   ],
   "source": [
    "chat_prompts[1]"
   ]
  },
  {
   "cell_type": "code",
   "execution_count": 33,
   "metadata": {},
   "outputs": [
    {
     "name": "stdout",
     "output_type": "stream",
     "text": [
      "System: Act as an expert in real estate and provide very detailed answers with examples\n",
      "Human: what is your name?\n",
      "AI: my name is AIBot\n",
      "Human: explain commercial real estate to me\n"
     ]
    }
   ],
   "source": [
    "print(chat_prompts[1].to_string())"
   ]
  },
  {
   "cell_type": "code",
   "execution_count": 34,
   "metadata": {},
   "outputs": [
    {
     "data": {
      "text/plain": [
       "[SystemMessage(content='Act as an expert in real estate and provide very detailed answers with examples', additional_kwargs={}, response_metadata={}),\n",
       " HumanMessage(content='what is your name?', additional_kwargs={}, response_metadata={}),\n",
       " AIMessage(content='my name is AIBot', additional_kwargs={}, response_metadata={}),\n",
       " HumanMessage(content='explain commercial real estate to me', additional_kwargs={}, response_metadata={})]"
      ]
     },
     "execution_count": 34,
     "metadata": {},
     "output_type": "execute_result"
    }
   ],
   "source": [
    "chat_prompts[1].to_messages()"
   ]
  },
  {
   "cell_type": "code",
   "execution_count": 35,
   "metadata": {},
   "outputs": [
    {
     "name": "stdout",
     "output_type": "stream",
     "text": [
      "I am known as AIBot. How can I assist you with your real estate inquiries today?\n",
      "-----\n",
      "Commercial real estate (CRE) refers to properties that are used exclusively for business purposes or to provide a workspace rather than as a residence. This sector of real estate is distinct from residential real estate, which involves properties designed for people to live in. Understanding commercial real estate involves several key components, including types of properties, investment strategies, financing, and market dynamics.\n",
      "\n",
      "### Types of Commercial Real Estate\n",
      "\n",
      "1. **Office Buildings**: These can range from single-tenant buildings to skyscrapers housing multiple businesses. They are often categorized into:\n",
      "   - **Class A**: High-quality buildings in prime locations with top amenities.\n",
      "   - **Class B**: Good-quality buildings that may need some renovations.\n",
      "   - **Class C**: Older buildings in less desirable locations, often requiring significant upgrades.\n",
      "\n",
      "   **Example**: A Class A office building in downtown Chicago may attract large corporations due to its location and amenities, while a Class C office in a suburban area may cater to small businesses.\n",
      "\n",
      "2. **Retail Properties**: These include shopping centers, malls, and standalone stores. Retail properties can be further divided into:\n",
      "   - **Neighborhood Centers**: Small shopping areas serving local communities.\n",
      "   - **Regional Malls**: Larger shopping complexes with a variety of stores and entertainment options.\n",
      "\n",
      "   **Example**: A neighborhood center might include a grocery store, a pharmacy, and a few restaurants, while a regional mall could feature major department stores and a food court.\n",
      "\n",
      "3. **Industrial Properties**: These are used for manufacturing, production, distribution, and storage. Types include:\n",
      "   - **Warehouses**: Large spaces for storing goods.\n",
      "   - **Manufacturing Facilities**: Buildings where products are made.\n",
      "   - **Flex Spaces**: Versatile spaces that can be used for both office and industrial purposes.\n",
      "\n",
      "   **Example**: A distribution center for an e-commerce company would be a large warehouse designed for quick shipping and receiving of goods.\n",
      "\n",
      "4. **Multifamily Properties**: While often considered residential, multifamily properties with five or more units are classified as commercial real estate. This includes:\n",
      "   - **Apartments**: Buildings with multiple rental units.\n",
      "   - **Condominiums**: Individually owned units within a larger building.\n",
      "\n",
      "   **Example**: A 100-unit apartment complex in a growing urban area can be a lucrative investment for landlords.\n",
      "\n",
      "5. **Hospitality Properties**: This category includes hotels, motels, and resorts. These properties are often evaluated based on occupancy rates and average daily rates (ADR).\n",
      "\n",
      "   **Example**: A luxury hotel in a tourist destination may have high occupancy rates during peak seasons, significantly impacting its revenue.\n",
      "\n",
      "6. **Special Purpose Properties**: These are unique properties that serve specific functions, such as schools, churches, and self-storage facilities.\n",
      "\n",
      "   **Example**: A self-storage facility in a densely populated urban area can be a profitable investment due to high demand for storage space.\n",
      "\n",
      "### Investment Strategies\n",
      "\n",
      "Investing in commercial real estate can be approached in various ways:\n",
      "\n",
      "- **Direct Ownership**: Purchasing a property outright to generate rental income or appreciation.\n",
      "- **Real Estate Investment Trusts (REITs)**: Investing in companies that own, operate, or finance income-producing real estate.\n",
      "- **Partnerships**: Collaborating with other investors to pool resources for larger investments.\n",
      "\n",
      "### Financing Commercial Real Estate\n",
      "\n",
      "Financing for commercial properties often differs from residential mortgages. Common financing options include:\n",
      "\n",
      "- **Commercial Mortgages**: Loans specifically for purchasing commercial properties, typically with shorter terms and higher interest rates than residential loans.\n",
      "- **SBA Loans**: Loans backed by the Small Business Administration for small businesses to purchase real estate.\n",
      "- **Bridge Loans**: Short-term loans used to \"bridge\" the gap until permanent financing is secured.\n",
      "\n",
      "### Market Dynamics\n",
      "\n",
      "The commercial real estate market is influenced by various factors, including:\n",
      "\n",
      "- **Economic Conditions**: Economic growth can lead to increased demand for office and retail space, while recessions can decrease demand.\n",
      "- **Location**: Properties in prime locations tend to have higher values and demand.\n",
      "- **Zoning Laws**: Local regulations can affect what types of businesses can operate in certain areas, impacting property values.\n",
      "\n",
      "### Conclusion\n",
      "\n",
      "Commercial real estate is a complex and diverse sector that offers various opportunities for investment and development. Understanding the different types of properties, investment strategies, financing options, and market dynamics is crucial for anyone looking to engage in this field. Whether you are an investor, developer, or business owner, knowledge of commercial real estate can provide significant advantages in navigating this market.\n",
      "-----\n"
     ]
    }
   ],
   "source": [
    "responses = chatgpt.map().invoke(chat_prompts)\n",
    "for response in responses:\n",
    "    print(response.content)\n",
    "    print('-----')"
   ]
  },
  {
   "cell_type": "code",
   "execution_count": null,
   "metadata": {},
   "outputs": [],
   "source": [
    "from langchain_core.prompts import ChatPromptTemplate, FewShotChatMessagePromptTemplate "
   ]
  }
 ],
 "metadata": {
  "kernelspec": {
   "display_name": "base",
   "language": "python",
   "name": "python3"
  },
  "language_info": {
   "codemirror_mode": {
    "name": "ipython",
    "version": 3
   },
   "file_extension": ".py",
   "mimetype": "text/x-python",
   "name": "python",
   "nbconvert_exporter": "python",
   "pygments_lexer": "ipython3",
   "version": "3.10.14"
  }
 },
 "nbformat": 4,
 "nbformat_minor": 2
}
